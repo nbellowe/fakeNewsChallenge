{
 "cells": [
  {
   "cell_type": "code",
   "execution_count": 83,
   "metadata": {
    "collapsed": false,
    "deletable": true,
    "editable": true
   },
   "outputs": [],
   "source": [
    "import pandas as pd\n",
    "import re\n",
    "\n",
    "from sklearn.feature_extraction.text import CountVectorizer, TfidfVectorizer\n",
    "from sklearn.linear_model import LinearRegression, LogisticRegression\n",
    "from sklearn.naive_bayes import GaussianNB\n",
    "from sklearn.model_selection import cross_val_score\n",
    "from sklearn.metrics import confusion_matrix\n",
    "from scipy.sparse import coo_matrix, hstack\n",
    "from sklearn.feature_extraction.text import CountVectorizer\n",
    "\n",
    "%matplotlib inline  \n",
    "import matplotlib.pyplot as plt\n"
   ]
  },
  {
   "cell_type": "code",
   "execution_count": 84,
   "metadata": {
    "collapsed": false,
    "deletable": true,
    "editable": true
   },
   "outputs": [
    {
     "data": {
      "text/html": [
       "<div>\n",
       "<table border=\"1\" class=\"dataframe\">\n",
       "  <thead>\n",
       "    <tr style=\"text-align: right;\">\n",
       "      <th></th>\n",
       "      <th>Headline</th>\n",
       "      <th>Body ID</th>\n",
       "      <th>Stance</th>\n",
       "    </tr>\n",
       "  </thead>\n",
       "  <tbody>\n",
       "    <tr>\n",
       "      <th>0</th>\n",
       "      <td>Police find mass graves with at least '15 bodi...</td>\n",
       "      <td>712</td>\n",
       "      <td>unrelated</td>\n",
       "    </tr>\n",
       "    <tr>\n",
       "      <th>1</th>\n",
       "      <td>Hundreds of Palestinians flee floods in Gaza a...</td>\n",
       "      <td>158</td>\n",
       "      <td>agree</td>\n",
       "    </tr>\n",
       "    <tr>\n",
       "      <th>2</th>\n",
       "      <td>Christian Bale passes on role of Steve Jobs, a...</td>\n",
       "      <td>137</td>\n",
       "      <td>unrelated</td>\n",
       "    </tr>\n",
       "    <tr>\n",
       "      <th>3</th>\n",
       "      <td>HBO and Apple in Talks for $15/Month Apple TV ...</td>\n",
       "      <td>1034</td>\n",
       "      <td>unrelated</td>\n",
       "    </tr>\n",
       "    <tr>\n",
       "      <th>4</th>\n",
       "      <td>Spider burrowed through tourist's stomach and ...</td>\n",
       "      <td>1923</td>\n",
       "      <td>disagree</td>\n",
       "    </tr>\n",
       "  </tbody>\n",
       "</table>\n",
       "</div>"
      ],
      "text/plain": [
       "                                            Headline  Body ID     Stance\n",
       "0  Police find mass graves with at least '15 bodi...      712  unrelated\n",
       "1  Hundreds of Palestinians flee floods in Gaza a...      158      agree\n",
       "2  Christian Bale passes on role of Steve Jobs, a...      137  unrelated\n",
       "3  HBO and Apple in Talks for $15/Month Apple TV ...     1034  unrelated\n",
       "4  Spider burrowed through tourist's stomach and ...     1923   disagree"
      ]
     },
     "execution_count": 84,
     "metadata": {},
     "output_type": "execute_result"
    }
   ],
   "source": [
    "trainBodies = pd.read_csv('fncData/train_bodies.csv')\n",
    "trainStances = pd.read_csv('fncData/train_stances.csv')\n",
    "trainStancesRandom = pd.read_csv('fncData/train_stances.random.csv')\n",
    "trainStances.head()"
   ]
  },
  {
   "cell_type": "code",
   "execution_count": 85,
   "metadata": {
    "collapsed": false,
    "deletable": true,
    "editable": true
   },
   "outputs": [
    {
     "name": "stdout",
     "output_type": "stream",
     "text": [
      "('Total is ', 49972)\n",
      "('Unrelated: ', 36545, 0.7313095333386697)\n",
      "('Disagree: ', 840, 0.016809413271432)\n",
      "('Agree: ', 3678, 0.07360121668134155)\n",
      "('Discuss: ', 8909, 0.1782798367085568)\n"
     ]
    }
   ],
   "source": [
    "unrelatedCount = trainStances[trainStances[\"Stance\"] == \"unrelated\"].count()[0]\n",
    "agreeCount = trainStances[trainStances[\"Stance\"] == \"agree\"].count()[0]\n",
    "disagreeCount = trainStances[trainStances[\"Stance\"] == \"disagree\"].count()[0]\n",
    "discussCount = trainStances[trainStances[\"Stance\"] == \"discuss\"].count()[0]\n",
    "totalCount = trainStances.count()[0]\n",
    "\n",
    "print(\"Total is \", totalCount)\n",
    "print(\"Unrelated: \",unrelatedCount, float(unrelatedCount) / totalCount)\n",
    "print(\"Disagree: \",disagreeCount, float(disagreeCount) / totalCount)\n",
    "print(\"Agree: \",agreeCount, float(agreeCount) / totalCount)\n",
    "print(\"Discuss: \",discussCount,  float(discussCount) / totalCount)"
   ]
  },
  {
   "cell_type": "code",
   "execution_count": 86,
   "metadata": {
    "collapsed": false,
    "deletable": true,
    "editable": true
   },
   "outputs": [
    {
     "data": {
      "text/html": [
       "<div>\n",
       "<table border=\"1\" class=\"dataframe\">\n",
       "  <thead>\n",
       "    <tr style=\"text-align: right;\">\n",
       "      <th></th>\n",
       "      <th>Headline</th>\n",
       "      <th>Body ID</th>\n",
       "      <th>Stance</th>\n",
       "    </tr>\n",
       "  </thead>\n",
       "  <tbody>\n",
       "    <tr>\n",
       "      <th>0</th>\n",
       "      <td>Police find mass graves with at least '15 bodi...</td>\n",
       "      <td>712</td>\n",
       "      <td>discuss</td>\n",
       "    </tr>\n",
       "    <tr>\n",
       "      <th>1</th>\n",
       "      <td>Hundreds of Palestinians flee floods in Gaza a...</td>\n",
       "      <td>158</td>\n",
       "      <td>discuss</td>\n",
       "    </tr>\n",
       "    <tr>\n",
       "      <th>2</th>\n",
       "      <td>Christian Bale passes on role of Steve Jobs, a...</td>\n",
       "      <td>137</td>\n",
       "      <td>disagree</td>\n",
       "    </tr>\n",
       "    <tr>\n",
       "      <th>3</th>\n",
       "      <td>HBO and Apple in Talks for $15/Month Apple TV ...</td>\n",
       "      <td>1034</td>\n",
       "      <td>disagree</td>\n",
       "    </tr>\n",
       "    <tr>\n",
       "      <th>4</th>\n",
       "      <td>Spider burrowed through tourist's stomach and ...</td>\n",
       "      <td>1923</td>\n",
       "      <td>agree</td>\n",
       "    </tr>\n",
       "  </tbody>\n",
       "</table>\n",
       "</div>"
      ],
      "text/plain": [
       "                                            Headline  Body ID    Stance\n",
       "0  Police find mass graves with at least '15 bodi...      712   discuss\n",
       "1  Hundreds of Palestinians flee floods in Gaza a...      158   discuss\n",
       "2  Christian Bale passes on role of Steve Jobs, a...      137  disagree\n",
       "3  HBO and Apple in Talks for $15/Month Apple TV ...     1034  disagree\n",
       "4  Spider burrowed through tourist's stomach and ...     1923     agree"
      ]
     },
     "execution_count": 86,
     "metadata": {},
     "output_type": "execute_result"
    }
   ],
   "source": [
    "trainStancesRandom.head()"
   ]
  },
  {
   "cell_type": "code",
   "execution_count": 87,
   "metadata": {
    "collapsed": true,
    "deletable": true,
    "editable": true
   },
   "outputs": [],
   "source": [
    "limit = len(trainStances)\n",
    "#limit = 1000\n",
    "strip = True\n",
    "lowercase = True"
   ]
  },
  {
   "cell_type": "code",
   "execution_count": 88,
   "metadata": {
    "collapsed": false,
    "deletable": true,
    "editable": true
   },
   "outputs": [
    {
     "name": "stdout",
     "output_type": "stream",
     "text": [
      "Train Stances (20/49972):\n"
     ]
    },
    {
     "data": {
      "text/html": [
       "<div>\n",
       "<table border=\"1\" class=\"dataframe\">\n",
       "  <thead>\n",
       "    <tr style=\"text-align: right;\">\n",
       "      <th></th>\n",
       "      <th>Headline</th>\n",
       "      <th>unrelated</th>\n",
       "      <th>agree</th>\n",
       "      <th>disagree</th>\n",
       "      <th>discuss</th>\n",
       "      <th>Body</th>\n",
       "    </tr>\n",
       "  </thead>\n",
       "  <tbody>\n",
       "    <tr>\n",
       "      <th>0</th>\n",
       "      <td>police find mass graves with at least bodies n...</td>\n",
       "      <td>1</td>\n",
       "      <td>0</td>\n",
       "      <td>0</td>\n",
       "      <td>0</td>\n",
       "      <td>danny boyle is directing the untitled film set...</td>\n",
       "    </tr>\n",
       "    <tr>\n",
       "      <th>1</th>\n",
       "      <td>hundreds of palestinians flee floods in gaza a...</td>\n",
       "      <td>0</td>\n",
       "      <td>1</td>\n",
       "      <td>0</td>\n",
       "      <td>0</td>\n",
       "      <td>hundreds of palestinians were evacuated from t...</td>\n",
       "    </tr>\n",
       "    <tr>\n",
       "      <th>2</th>\n",
       "      <td>christian bale passes on role of steve jobs ac...</td>\n",
       "      <td>1</td>\n",
       "      <td>0</td>\n",
       "      <td>0</td>\n",
       "      <td>0</td>\n",
       "      <td>year old moscow resident was hospitalized with...</td>\n",
       "    </tr>\n",
       "    <tr>\n",
       "      <th>3</th>\n",
       "      <td>hbo and apple in talks for month apple tv stre...</td>\n",
       "      <td>1</td>\n",
       "      <td>0</td>\n",
       "      <td>0</td>\n",
       "      <td>0</td>\n",
       "      <td>reuters a canadian soldier was shot at the can...</td>\n",
       "    </tr>\n",
       "    <tr>\n",
       "      <th>4</th>\n",
       "      <td>spider burrowed through tourist s stomach and ...</td>\n",
       "      <td>0</td>\n",
       "      <td>0</td>\n",
       "      <td>1</td>\n",
       "      <td>0</td>\n",
       "      <td>fear not arachnophobes the story of bunbury s ...</td>\n",
       "    </tr>\n",
       "  </tbody>\n",
       "</table>\n",
       "</div>"
      ],
      "text/plain": [
       "                                            Headline  unrelated  agree  \\\n",
       "0  police find mass graves with at least bodies n...          1      0   \n",
       "1  hundreds of palestinians flee floods in gaza a...          0      1   \n",
       "2  christian bale passes on role of steve jobs ac...          1      0   \n",
       "3  hbo and apple in talks for month apple tv stre...          1      0   \n",
       "4  spider burrowed through tourist s stomach and ...          0      0   \n",
       "\n",
       "   disagree  discuss                                               Body  \n",
       "0         0        0  danny boyle is directing the untitled film set...  \n",
       "1         0        0  hundreds of palestinians were evacuated from t...  \n",
       "2         0        0  year old moscow resident was hospitalized with...  \n",
       "3         0        0  reuters a canadian soldier was shot at the can...  \n",
       "4         1        0  fear not arachnophobes the story of bunbury s ...  "
      ]
     },
     "execution_count": 88,
     "metadata": {},
     "output_type": "execute_result"
    }
   ],
   "source": [
    "print \"Train Stances (20/%s):\" % (len(trainStances))\n",
    "# trainStances.head(20)\n",
    "\n",
    "trainStances[\"unrelated\"] = trainStances[\"Stance\"].apply(lambda x: 1 if x == \"unrelated\" else 0)\n",
    "trainStances[\"agree\"] = trainStances[\"Stance\"].apply(lambda x: 1 if x == \"agree\" else 0)\n",
    "trainStances[\"disagree\"] = trainStances[\"Stance\"].apply(lambda x: 1 if x == \"disagree\" else 0)\n",
    "trainStances[\"discuss\"] = trainStances[\"Stance\"].apply(lambda x: 1 if x == \"discuss\" else 0)\n",
    "trainStances[\"Body\"] = [\"\"] * len(trainStances)\n",
    "for index, row in trainStances[0:limit].iterrows():\n",
    "    trainStances.loc[index, \"Body\"] = trainBodies[trainBodies['Body ID'] == row[\"Body ID\"]]['articleBody'].item()\n",
    "\n",
    "\n",
    "def preprocess(text, lowercase, strip):\n",
    "    text = text.lower() if lowercase else text\n",
    "    text = \" \".join(re.findall(\"[a-zA-Z]+\", text)) if strip else text\n",
    "    return text\n",
    "\n",
    "if strip or lowercase:\n",
    "    trainStances[\"Body\"]= trainStances[\"Body\"].apply(lambda x: preprocess(x,lowercase,strip))\n",
    "    trainStances[\"Headline\"]= trainStances[\"Headline\"].apply(lambda x: preprocess(x,lowercase,strip))\n",
    "    \n",
    "\n",
    "trainStances = trainStances.drop(\"Body ID\", 1)\n",
    "trainStances = trainStances.drop(\"Stance\", 1)\n",
    "    \n",
    "trainStances.head()"
   ]
  },
  {
   "cell_type": "code",
   "execution_count": null,
   "metadata": {
    "collapsed": false,
    "deletable": true,
    "editable": true
   },
   "outputs": [],
   "source": [
    "# print \"Train Stances Random (20/%s)\" % (len(trainStancesRandom))\n",
    "# trainStancesRandom.head(20)"
   ]
  },
  {
   "cell_type": "code",
   "execution_count": 90,
   "metadata": {
    "collapsed": false,
    "deletable": true,
    "editable": true
   },
   "outputs": [
    {
     "data": {
      "text/html": [
       "<div>\n",
       "<table border=\"1\" class=\"dataframe\">\n",
       "  <thead>\n",
       "    <tr style=\"text-align: right;\">\n",
       "      <th></th>\n",
       "      <th>Headline</th>\n",
       "      <th>unrelated</th>\n",
       "      <th>agree</th>\n",
       "      <th>disagree</th>\n",
       "      <th>discuss</th>\n",
       "      <th>Body</th>\n",
       "      <th>Number Of Common Words</th>\n",
       "      <th>Number Of Words In Body</th>\n",
       "      <th>Number Of Words In Headline</th>\n",
       "    </tr>\n",
       "  </thead>\n",
       "  <tbody>\n",
       "    <tr>\n",
       "      <th>0</th>\n",
       "      <td>police find mass graves with at least bodies n...</td>\n",
       "      <td>1</td>\n",
       "      <td>0</td>\n",
       "      <td>0</td>\n",
       "      <td>0</td>\n",
       "      <td>danny boyle is directing the untitled film set...</td>\n",
       "      <td>2</td>\n",
       "      <td>198</td>\n",
       "      <td>17</td>\n",
       "    </tr>\n",
       "    <tr>\n",
       "      <th>1</th>\n",
       "      <td>hundreds of palestinians flee floods in gaza a...</td>\n",
       "      <td>0</td>\n",
       "      <td>1</td>\n",
       "      <td>0</td>\n",
       "      <td>0</td>\n",
       "      <td>hundreds of palestinians were evacuated from t...</td>\n",
       "      <td>10</td>\n",
       "      <td>429</td>\n",
       "      <td>11</td>\n",
       "    </tr>\n",
       "    <tr>\n",
       "      <th>2</th>\n",
       "      <td>christian bale passes on role of steve jobs ac...</td>\n",
       "      <td>1</td>\n",
       "      <td>0</td>\n",
       "      <td>0</td>\n",
       "      <td>0</td>\n",
       "      <td>year old moscow resident was hospitalized with...</td>\n",
       "      <td>4</td>\n",
       "      <td>187</td>\n",
       "      <td>17</td>\n",
       "    </tr>\n",
       "    <tr>\n",
       "      <th>3</th>\n",
       "      <td>hbo and apple in talks for month apple tv stre...</td>\n",
       "      <td>1</td>\n",
       "      <td>0</td>\n",
       "      <td>0</td>\n",
       "      <td>0</td>\n",
       "      <td>reuters a canadian soldier was shot at the can...</td>\n",
       "      <td>2</td>\n",
       "      <td>79</td>\n",
       "      <td>14</td>\n",
       "    </tr>\n",
       "    <tr>\n",
       "      <th>4</th>\n",
       "      <td>spider burrowed through tourist s stomach and ...</td>\n",
       "      <td>0</td>\n",
       "      <td>0</td>\n",
       "      <td>1</td>\n",
       "      <td>0</td>\n",
       "      <td>fear not arachnophobes the story of bunbury s ...</td>\n",
       "      <td>9</td>\n",
       "      <td>627</td>\n",
       "      <td>11</td>\n",
       "    </tr>\n",
       "  </tbody>\n",
       "</table>\n",
       "</div>"
      ],
      "text/plain": [
       "                                            Headline  unrelated  agree  \\\n",
       "0  police find mass graves with at least bodies n...          1      0   \n",
       "1  hundreds of palestinians flee floods in gaza a...          0      1   \n",
       "2  christian bale passes on role of steve jobs ac...          1      0   \n",
       "3  hbo and apple in talks for month apple tv stre...          1      0   \n",
       "4  spider burrowed through tourist s stomach and ...          0      0   \n",
       "\n",
       "   disagree  discuss                                               Body  \\\n",
       "0         0        0  danny boyle is directing the untitled film set...   \n",
       "1         0        0  hundreds of palestinians were evacuated from t...   \n",
       "2         0        0  year old moscow resident was hospitalized with...   \n",
       "3         0        0  reuters a canadian soldier was shot at the can...   \n",
       "4         1        0  fear not arachnophobes the story of bunbury s ...   \n",
       "\n",
       "   Number Of Common Words  Number Of Words In Body  \\\n",
       "0                       2                      198   \n",
       "1                      10                      429   \n",
       "2                       4                      187   \n",
       "3                       2                       79   \n",
       "4                       9                      627   \n",
       "\n",
       "   Number Of Words In Headline  \n",
       "0                           17  \n",
       "1                           11  \n",
       "2                           17  \n",
       "3                           14  \n",
       "4                           11  "
      ]
     },
     "execution_count": 90,
     "metadata": {},
     "output_type": "execute_result"
    }
   ],
   "source": [
    "# build feature vocabulary\n",
    "ngram = 1\n",
    "vectorizer = CountVectorizer(ngram_range=(1, ngram))\n",
    "trainStances[\"Number Of Common Words\"] = [-1 for x in range(len(trainStances))]\n",
    "trainStances[\"Number Of Words In Body\"] = [-1 for x in range(len(trainStances))]\n",
    "trainStances[\"Number Of Words In Headline\"] = [-1 for x in range(len(trainStances))]\n",
    "\n",
    "for index, row in trainStances[0:limit].iterrows():\n",
    "    headline = row['Headline']\n",
    "    body = row['Body']\n",
    "    \n",
    "#     print index\n",
    "#     print \"HEADLINE: \\n%s\\n\" % headline\n",
    "#     print \"BODY: \\n%s\\n\" % body\n",
    "\n",
    "    headline_words = headline.split()\n",
    "    body_words = body.split()\n",
    "    \n",
    "    num_words_in_common = len(set(headline_words).intersection(body_words))\n",
    "    \n",
    "    trainStances.loc[index, \"Number Of Common Words\"] = num_words_in_common  \n",
    "    trainStances.loc[index, \"Number Of Words In Body\"] = len(body_words) \n",
    "    trainStances.loc[index, \"Number Of Words In Headline\"] = len(headline_words) \n",
    "\n",
    "trainStances.head()\n",
    "\n",
    "# I'd like to graph the num_words_in_common integer to the stance classification, to see what kind of correlation we're working with here."
   ]
  },
  {
   "cell_type": "code",
   "execution_count": 91,
   "metadata": {
    "collapsed": false,
    "deletable": true,
    "editable": true
   },
   "outputs": [
    {
     "data": {
      "text/html": [
       "<div>\n",
       "<table border=\"1\" class=\"dataframe\">\n",
       "  <thead>\n",
       "    <tr style=\"text-align: right;\">\n",
       "      <th></th>\n",
       "      <th>unrelated</th>\n",
       "      <th>agree</th>\n",
       "      <th>disagree</th>\n",
       "      <th>discuss</th>\n",
       "      <th>Number Of Common Words</th>\n",
       "      <th>Number Of Words In Body</th>\n",
       "      <th>Number Of Words In Headline</th>\n",
       "    </tr>\n",
       "  </thead>\n",
       "  <tbody>\n",
       "    <tr>\n",
       "      <th>unrelated</th>\n",
       "      <td>1.000000</td>\n",
       "      <td>-0.465016</td>\n",
       "      <td>-0.215716</td>\n",
       "      <td>-0.768446</td>\n",
       "      <td>-0.674980</td>\n",
       "      <td>-0.032519</td>\n",
       "      <td>0.021148</td>\n",
       "    </tr>\n",
       "    <tr>\n",
       "      <th>agree</th>\n",
       "      <td>-0.465016</td>\n",
       "      <td>1.000000</td>\n",
       "      <td>-0.036855</td>\n",
       "      <td>-0.131290</td>\n",
       "      <td>0.330638</td>\n",
       "      <td>-0.025450</td>\n",
       "      <td>0.007301</td>\n",
       "    </tr>\n",
       "    <tr>\n",
       "      <th>disagree</th>\n",
       "      <td>-0.215716</td>\n",
       "      <td>-0.036855</td>\n",
       "      <td>1.000000</td>\n",
       "      <td>-0.060904</td>\n",
       "      <td>0.138234</td>\n",
       "      <td>0.001413</td>\n",
       "      <td>-0.000401</td>\n",
       "    </tr>\n",
       "    <tr>\n",
       "      <th>discuss</th>\n",
       "      <td>-0.768446</td>\n",
       "      <td>-0.131290</td>\n",
       "      <td>-0.060904</td>\n",
       "      <td>1.000000</td>\n",
       "      <td>0.509727</td>\n",
       "      <td>0.054549</td>\n",
       "      <td>-0.029338</td>\n",
       "    </tr>\n",
       "    <tr>\n",
       "      <th>Number Of Common Words</th>\n",
       "      <td>-0.674980</td>\n",
       "      <td>0.330638</td>\n",
       "      <td>0.138234</td>\n",
       "      <td>0.509727</td>\n",
       "      <td>1.000000</td>\n",
       "      <td>0.208033</td>\n",
       "      <td>0.463184</td>\n",
       "    </tr>\n",
       "    <tr>\n",
       "      <th>Number Of Words In Body</th>\n",
       "      <td>-0.032519</td>\n",
       "      <td>-0.025450</td>\n",
       "      <td>0.001413</td>\n",
       "      <td>0.054549</td>\n",
       "      <td>0.208033</td>\n",
       "      <td>1.000000</td>\n",
       "      <td>0.004592</td>\n",
       "    </tr>\n",
       "    <tr>\n",
       "      <th>Number Of Words In Headline</th>\n",
       "      <td>0.021148</td>\n",
       "      <td>0.007301</td>\n",
       "      <td>-0.000401</td>\n",
       "      <td>-0.029338</td>\n",
       "      <td>0.463184</td>\n",
       "      <td>0.004592</td>\n",
       "      <td>1.000000</td>\n",
       "    </tr>\n",
       "  </tbody>\n",
       "</table>\n",
       "</div>"
      ],
      "text/plain": [
       "                             unrelated     agree  disagree   discuss  \\\n",
       "unrelated                     1.000000 -0.465016 -0.215716 -0.768446   \n",
       "agree                        -0.465016  1.000000 -0.036855 -0.131290   \n",
       "disagree                     -0.215716 -0.036855  1.000000 -0.060904   \n",
       "discuss                      -0.768446 -0.131290 -0.060904  1.000000   \n",
       "Number Of Common Words       -0.674980  0.330638  0.138234  0.509727   \n",
       "Number Of Words In Body      -0.032519 -0.025450  0.001413  0.054549   \n",
       "Number Of Words In Headline   0.021148  0.007301 -0.000401 -0.029338   \n",
       "\n",
       "                             Number Of Common Words  Number Of Words In Body  \\\n",
       "unrelated                                 -0.674980                -0.032519   \n",
       "agree                                      0.330638                -0.025450   \n",
       "disagree                                   0.138234                 0.001413   \n",
       "discuss                                    0.509727                 0.054549   \n",
       "Number Of Common Words                     1.000000                 0.208033   \n",
       "Number Of Words In Body                    0.208033                 1.000000   \n",
       "Number Of Words In Headline                0.463184                 0.004592   \n",
       "\n",
       "                             Number Of Words In Headline  \n",
       "unrelated                                       0.021148  \n",
       "agree                                           0.007301  \n",
       "disagree                                       -0.000401  \n",
       "discuss                                        -0.029338  \n",
       "Number Of Common Words                          0.463184  \n",
       "Number Of Words In Body                         0.004592  \n",
       "Number Of Words In Headline                     1.000000  "
      ]
     },
     "execution_count": 91,
     "metadata": {},
     "output_type": "execute_result"
    }
   ],
   "source": [
    "trainStances[0:limit].corr()"
   ]
  },
  {
   "cell_type": "code",
   "execution_count": null,
   "metadata": {
    "collapsed": false,
    "deletable": true,
    "editable": true
   },
   "outputs": [],
   "source": [
    "categoryNumberOfCommonWordsMeans = { \"unrelated\":0, \"discuss\":0, \"agree\":0, \"disagree\":0}\n",
    "for category in categoryNumberOfCommonWordsMeans: #for each category calculate the mean number of words in common between header and body \n",
    "    categoryNumberOfCommonWordsMeans[category] = trainStances[0:limit][trainStances[category] == 1].mean()[\"Number Of Common Words\"]\n",
    "\n",
    "print(categoryNumberOfCommonWordsMeans)\n",
    "\n",
    "values = [] #in same order as traversing keys\n",
    "keys = [] #also needed to preserve order\n",
    "for key in categoryNumberOfCommonWordsMeans.keys():\n",
    "  keys.append(key)\n",
    "  values.append(categoryNumberOfCommonWordsMeans[key])\n",
    "    \n",
    "l = plt.bar(range(len(values)), values,align='center')\n",
    "plt.xticks(range(len(keys)), keys, rotation=25)\n",
    "plt.grid(True)"
   ]
  },
  {
   "cell_type": "code",
   "execution_count": 93,
   "metadata": {
    "collapsed": false,
    "deletable": true,
    "editable": true
   },
   "outputs": [
    {
     "name": "stdout",
     "output_type": "stream",
     "text": [
      "('Size:', (49972, 303435), 'same')\n"
     ]
    }
   ],
   "source": [
    "bodies = [x for x in trainStances[0:limit][\"Body\"]]\n",
    "headlines = [x for x in trainStances[0:limit][\"Headline\"]]\n",
    "\n",
    "# could make count vectors for each type\n",
    "bodyBOWVectors = cv.transform(bodies)\n",
    "headlineBOWVectors = cv.transform(headlines)\n",
    "\n",
    "print(\"Size:\", headlineBOWVectors.shape, \"same\" if bodyBOWVectors.shape==headlineBOWVectors.shape else \"DIFFERENT!!!\")\n",
    "\n",
    "combinedVectors = bodyBOWVectors.multiply(headlineBOWVectors)"
   ]
  },
  {
   "cell_type": "code",
   "execution_count": 94,
   "metadata": {
    "collapsed": false
   },
   "outputs": [],
   "source": [
    "#cv=CountVectorizer()\n",
    "# or tfidf vectorizer \n",
    "cv=TfidfVectorizer(ngram_range=(1,3))\n",
    "cv.fit(bodies + headlines)\n",
    "\n",
    "def featurize(xs):\n",
    "    bodyVector = cv.transform([a for a in xs[\"Body\"]])\n",
    "    hlVector = cv.transform([a for a in xs[\"Headline\"]])\n",
    "    \n",
    "    # maybe its better to have one vector where the presence of the word is scaled\n",
    "    # up if that word is present in the headline, otherwise scaled down \n",
    "    # something of the form, but scaled with constants...\n",
    "    combinedVectors = bodyVector.multiply(hlVector)\n",
    "    \n",
    "    numberOfWords = [[a] for a in xs[\"Number Of Common Words\"]]\n",
    "    \n",
    "    return hstack([bodyVector,hlVector,combinedVectors, numberOfWords])"
   ]
  },
  {
   "cell_type": "code",
   "execution_count": null,
   "metadata": {
    "collapsed": false,
    "deletable": true,
    "editable": true
   },
   "outputs": [
    {
     "name": "stdout",
     "output_type": "stream",
     "text": [
      "Crossvalidation [ 0.96238119  0.96478239  0.96617971  0.96567941  0.96888133] Accuracy: 0.97 (+/- 0.00)\n",
      "('Coefficient for number of words is ', -1.2295698207445114)\n",
      "('Training error predicted postive rate:', 36.969000000000001)\n",
      "('Training error false positive', 0.81899999999999995)\n",
      "('Training error false negative', 0.39500000000000002)\n",
      "('Training error true positive', 36.149999999999999)\n",
      "('Training error true negative', 12.608000000000001)\n"
     ]
    }
   ],
   "source": [
    "x_train = featurize(trainStances[0:limit])\n",
    "y_train = list([y for y in trainStances[0:limit][\"unrelated\"]])\n",
    "\n",
    "clf = LogisticRegression()\n",
    "#run cross validation to get a good accuracy measure\n",
    "scores = cross_val_score(clf, x_train, y_train, cv=5)\n",
    "\n",
    "#now fit the model \n",
    "clf.fit(x_train, y_train)\n",
    "# compute a confusion matrix for test accuracy\n",
    "conf = confusion_matrix(y_train, clf.predict(x_train))\n",
    "\n",
    "print \"Crossvalidation\", scores, (\"Accuracy: %0.2f (+/- %0.2f)\" % (scores.mean(), scores.std() * 2))\n",
    "print(\"Coefficient for number of words is \", clf.coef_[0][-1])\n",
    "\n",
    "print(\"Training error predicted postive rate:\", sum(clf.predict(x_train)) / 1000.)\n",
    "print(\"Training error false positive\", conf[0][1] / float(limit))\n",
    "print(\"Training error false negative\", conf[1][0]/ float(limit))\n",
    "print(\"Training error true positive\", conf[1][1]/ float(limit))\n",
    "print(\"Training error true negative\", conf[0][0]/ float(limit))\n"
   ]
  },
  {
   "cell_type": "code",
   "execution_count": null,
   "metadata": {
    "collapsed": false,
    "deletable": true,
    "editable": true
   },
   "outputs": [],
   "source": [
    "#predictions = lr.predict(x_test)\n",
    "\n",
    "#o = DictWriter(open(\"predictions.csv\", 'w'), [\"Id\", \"spoiler\"])\n",
    "#o.writeheader()\n",
    "#for ii, pp in zip([x['Id'] for x in test], predictions):\n",
    "#    d = {'Id': ii, 'spoiler': labels[pp]}\n",
    "#    o.writerow(d)"
   ]
  }
 ],
 "metadata": {
  "anaconda-cloud": {},
  "kernelspec": {
   "display_name": "Python 2",
   "language": "python",
   "name": "python2"
  },
  "language_info": {
   "codemirror_mode": {
    "name": "ipython",
    "version": 2
   },
   "file_extension": ".py",
   "mimetype": "text/x-python",
   "name": "python",
   "nbconvert_exporter": "python",
   "pygments_lexer": "ipython2",
   "version": "2.7.10"
  }
 },
 "nbformat": 4,
 "nbformat_minor": 2
}
