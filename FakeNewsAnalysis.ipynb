{
 "cells": [
  {
   "cell_type": "code",
   "execution_count": 27,
   "metadata": {
    "collapsed": false,
    "deletable": true,
    "editable": true
   },
   "outputs": [
    {
     "ename": "ImportError",
     "evalue": "cannot import name LinearRegression",
     "output_type": "error",
     "traceback": [
      "\u001b[0;31m---------------------------------------------------------------------------\u001b[0m",
      "\u001b[0;31mImportError\u001b[0m                               Traceback (most recent call last)",
      "\u001b[0;32m<ipython-input-27-8ea2c3c0b911>\u001b[0m in \u001b[0;36m<module>\u001b[0;34m()\u001b[0m\n\u001b[1;32m      3\u001b[0m \u001b[0;32mimport\u001b[0m \u001b[0mpylab\u001b[0m\u001b[0;34m\u001b[0m\u001b[0m\n\u001b[1;32m      4\u001b[0m \u001b[0;32mfrom\u001b[0m \u001b[0msklearn\u001b[0m\u001b[0;34m.\u001b[0m\u001b[0mfeature_extraction\u001b[0m\u001b[0;34m.\u001b[0m\u001b[0mtext\u001b[0m \u001b[0;32mimport\u001b[0m \u001b[0mCountVectorizer\u001b[0m\u001b[0;34m\u001b[0m\u001b[0m\n\u001b[0;32m----> 5\u001b[0;31m \u001b[0;32mfrom\u001b[0m \u001b[0msklearn\u001b[0m \u001b[0;32mimport\u001b[0m \u001b[0mLinearRegression\u001b[0m\u001b[0;34m\u001b[0m\u001b[0m\n\u001b[0m",
      "\u001b[0;31mImportError\u001b[0m: cannot import name LinearRegression"
     ]
    }
   ],
   "source": [
    "import pandas as pd\n",
    "import numpy\n",
    "import pylab\n",
    "from sklearn.feature_extraction.text import CountVectorizer\n",
    "from sklearn import LinearRegression"
   ]
  },
  {
   "cell_type": "code",
   "execution_count": 28,
   "metadata": {
    "collapsed": false,
    "deletable": true,
    "editable": true
   },
   "outputs": [
    {
     "name": "stdout",
     "output_type": "stream",
     "text": [
      "Train Bodies (20/1683):\n"
     ]
    }
   ],
   "source": [
    "trainBodies = pd.read_csv('fncData/train_bodies.csv')\n",
    "trainStances = pd.read_csv('fncData/train_stances.csv')\n",
    "trainStancesRandom = pd.read_csv('fncData/train_stances.random.csv')\n",
    "\n",
    "print \"Train Bodies (20/%s):\" % (len(trainBodies))\n",
    "#print trainBodies.head(20)\n",
    "\n",
    "# to get articleBody:\n",
    "# trainBodies.get_value(0, 'articleBody')"
   ]
  },
  {
   "cell_type": "code",
   "execution_count": 29,
   "metadata": {
    "collapsed": true
   },
   "outputs": [],
   "source": [
    "limit = len(trainStances)\n",
    "limit = 100"
   ]
  },
  {
   "cell_type": "code",
   "execution_count": 30,
   "metadata": {
    "collapsed": false,
    "deletable": true,
    "editable": true
   },
   "outputs": [
    {
     "name": "stdout",
     "output_type": "stream",
     "text": [
      "Train Stances (20/49972):\n"
     ]
    },
    {
     "data": {
      "text/html": [
       "<div>\n",
       "<table border=\"1\" class=\"dataframe\">\n",
       "  <thead>\n",
       "    <tr style=\"text-align: right;\">\n",
       "      <th></th>\n",
       "      <th>Headline</th>\n",
       "      <th>unrelated</th>\n",
       "      <th>agree</th>\n",
       "      <th>disagree</th>\n",
       "      <th>discuss</th>\n",
       "      <th>Body</th>\n",
       "    </tr>\n",
       "  </thead>\n",
       "  <tbody>\n",
       "    <tr>\n",
       "      <th>0</th>\n",
       "      <td>Police find mass graves with at least '15 bodi...</td>\n",
       "      <td>1</td>\n",
       "      <td>0</td>\n",
       "      <td>0</td>\n",
       "      <td>0</td>\n",
       "      <td>Danny Boyle is directing the untitled film\\n\\n...</td>\n",
       "    </tr>\n",
       "    <tr>\n",
       "      <th>1</th>\n",
       "      <td>Hundreds of Palestinians flee floods in Gaza a...</td>\n",
       "      <td>0</td>\n",
       "      <td>1</td>\n",
       "      <td>0</td>\n",
       "      <td>0</td>\n",
       "      <td>Hundreds of Palestinians were evacuated from t...</td>\n",
       "    </tr>\n",
       "    <tr>\n",
       "      <th>2</th>\n",
       "      <td>Christian Bale passes on role of Steve Jobs, a...</td>\n",
       "      <td>1</td>\n",
       "      <td>0</td>\n",
       "      <td>0</td>\n",
       "      <td>0</td>\n",
       "      <td>30-year-old Moscow resident was hospitalized w...</td>\n",
       "    </tr>\n",
       "    <tr>\n",
       "      <th>3</th>\n",
       "      <td>HBO and Apple in Talks for $15/Month Apple TV ...</td>\n",
       "      <td>1</td>\n",
       "      <td>0</td>\n",
       "      <td>0</td>\n",
       "      <td>0</td>\n",
       "      <td>(Reuters) - A Canadian soldier was shot at the...</td>\n",
       "    </tr>\n",
       "    <tr>\n",
       "      <th>4</th>\n",
       "      <td>Spider burrowed through tourist's stomach and ...</td>\n",
       "      <td>0</td>\n",
       "      <td>0</td>\n",
       "      <td>1</td>\n",
       "      <td>0</td>\n",
       "      <td>Fear not arachnophobes, the story of Bunbury's...</td>\n",
       "    </tr>\n",
       "  </tbody>\n",
       "</table>\n",
       "</div>"
      ],
      "text/plain": [
       "                                            Headline  unrelated  agree  \\\n",
       "0  Police find mass graves with at least '15 bodi...          1      0   \n",
       "1  Hundreds of Palestinians flee floods in Gaza a...          0      1   \n",
       "2  Christian Bale passes on role of Steve Jobs, a...          1      0   \n",
       "3  HBO and Apple in Talks for $15/Month Apple TV ...          1      0   \n",
       "4  Spider burrowed through tourist's stomach and ...          0      0   \n",
       "\n",
       "   disagree  discuss                                               Body  \n",
       "0         0        0  Danny Boyle is directing the untitled film\\n\\n...  \n",
       "1         0        0  Hundreds of Palestinians were evacuated from t...  \n",
       "2         0        0  30-year-old Moscow resident was hospitalized w...  \n",
       "3         0        0  (Reuters) - A Canadian soldier was shot at the...  \n",
       "4         1        0  Fear not arachnophobes, the story of Bunbury's...  "
      ]
     },
     "execution_count": 30,
     "metadata": {},
     "output_type": "execute_result"
    }
   ],
   "source": [
    "print \"Train Stances (20/%s):\" % (len(trainStances))\n",
    "# trainStances.head(20)\n",
    "\n",
    "trainStances[\"unrelated\"] = trainStances[\"Stance\"].apply(lambda x: 1 if x == \"unrelated\" else 0)\n",
    "trainStances[\"agree\"] = trainStances[\"Stance\"].apply(lambda x: 1 if x == \"agree\" else 0)\n",
    "trainStances[\"disagree\"] = trainStances[\"Stance\"].apply(lambda x: 1 if x == \"disagree\" else 0)\n",
    "trainStances[\"discuss\"] = trainStances[\"Stance\"].apply(lambda x: 1 if x == \"discuss\" else 0)\n",
    "trainStances[\"Body\"] = [\"\"] * len(trainStances)\n",
    "for index, row in trainStances[0:limit].iterrows():\n",
    "    trainStances.loc[index, \"Body\"] = trainBodies[trainBodies['Body ID'] == row[\"Body ID\"]]['articleBody'].item()\n",
    "trainStances = trainStances.drop(\"Body ID\", 1)\n",
    "trainStances = trainStances.drop(\"Stance\", 1)\n",
    "    \n",
    "trainStances.head()"
   ]
  },
  {
   "cell_type": "code",
   "execution_count": 31,
   "metadata": {
    "collapsed": false,
    "deletable": true,
    "editable": true
   },
   "outputs": [
    {
     "name": "stdout",
     "output_type": "stream",
     "text": [
      "Train Stances Random (20/49972)\n"
     ]
    }
   ],
   "source": [
    "print \"Train Stances Random (20/%s)\" % (len(trainStancesRandom))\n",
    "# trainStancesRandom.head(20)"
   ]
  },
  {
   "cell_type": "code",
   "execution_count": null,
   "metadata": {
    "collapsed": false
   },
   "outputs": [],
   "source": []
  },
  {
   "cell_type": "code",
   "execution_count": 33,
   "metadata": {
    "collapsed": false,
    "deletable": true,
    "editable": true
   },
   "outputs": [
    {
     "data": {
      "text/html": [
       "<div>\n",
       "<table border=\"1\" class=\"dataframe\">\n",
       "  <thead>\n",
       "    <tr style=\"text-align: right;\">\n",
       "      <th></th>\n",
       "      <th>Headline</th>\n",
       "      <th>unrelated</th>\n",
       "      <th>agree</th>\n",
       "      <th>disagree</th>\n",
       "      <th>discuss</th>\n",
       "      <th>Body</th>\n",
       "      <th>Number Of Common Words</th>\n",
       "    </tr>\n",
       "  </thead>\n",
       "  <tbody>\n",
       "    <tr>\n",
       "      <th>0</th>\n",
       "      <td>Police find mass graves with at least '15 bodi...</td>\n",
       "      <td>1</td>\n",
       "      <td>0</td>\n",
       "      <td>0</td>\n",
       "      <td>0</td>\n",
       "      <td>Danny Boyle is directing the untitled film\\n\\n...</td>\n",
       "      <td>2</td>\n",
       "    </tr>\n",
       "    <tr>\n",
       "      <th>1</th>\n",
       "      <td>Hundreds of Palestinians flee floods in Gaza a...</td>\n",
       "      <td>0</td>\n",
       "      <td>1</td>\n",
       "      <td>0</td>\n",
       "      <td>0</td>\n",
       "      <td>Hundreds of Palestinians were evacuated from t...</td>\n",
       "      <td>10</td>\n",
       "    </tr>\n",
       "    <tr>\n",
       "      <th>2</th>\n",
       "      <td>Christian Bale passes on role of Steve Jobs, a...</td>\n",
       "      <td>1</td>\n",
       "      <td>0</td>\n",
       "      <td>0</td>\n",
       "      <td>0</td>\n",
       "      <td>30-year-old Moscow resident was hospitalized w...</td>\n",
       "      <td>4</td>\n",
       "    </tr>\n",
       "    <tr>\n",
       "      <th>3</th>\n",
       "      <td>HBO and Apple in Talks for $15/Month Apple TV ...</td>\n",
       "      <td>1</td>\n",
       "      <td>0</td>\n",
       "      <td>0</td>\n",
       "      <td>0</td>\n",
       "      <td>(Reuters) - A Canadian soldier was shot at the...</td>\n",
       "      <td>2</td>\n",
       "    </tr>\n",
       "    <tr>\n",
       "      <th>4</th>\n",
       "      <td>Spider burrowed through tourist's stomach and ...</td>\n",
       "      <td>0</td>\n",
       "      <td>0</td>\n",
       "      <td>1</td>\n",
       "      <td>0</td>\n",
       "      <td>Fear not arachnophobes, the story of Bunbury's...</td>\n",
       "      <td>6</td>\n",
       "    </tr>\n",
       "  </tbody>\n",
       "</table>\n",
       "</div>"
      ],
      "text/plain": [
       "                                            Headline  unrelated  agree  \\\n",
       "0  Police find mass graves with at least '15 bodi...          1      0   \n",
       "1  Hundreds of Palestinians flee floods in Gaza a...          0      1   \n",
       "2  Christian Bale passes on role of Steve Jobs, a...          1      0   \n",
       "3  HBO and Apple in Talks for $15/Month Apple TV ...          1      0   \n",
       "4  Spider burrowed through tourist's stomach and ...          0      0   \n",
       "\n",
       "   disagree  discuss                                               Body  \\\n",
       "0         0        0  Danny Boyle is directing the untitled film\\n\\n...   \n",
       "1         0        0  Hundreds of Palestinians were evacuated from t...   \n",
       "2         0        0  30-year-old Moscow resident was hospitalized w...   \n",
       "3         0        0  (Reuters) - A Canadian soldier was shot at the...   \n",
       "4         1        0  Fear not arachnophobes, the story of Bunbury's...   \n",
       "\n",
       "   Number Of Common Words  \n",
       "0                       2  \n",
       "1                      10  \n",
       "2                       4  \n",
       "3                       2  \n",
       "4                       6  "
      ]
     },
     "execution_count": 33,
     "metadata": {},
     "output_type": "execute_result"
    }
   ],
   "source": [
    "# build feature vocabulary\n",
    "ngram = 1\n",
    "vectorizer = CountVectorizer(ngram_range=(1, ngram))\n",
    "trainStances[\"Number Of Common Words\"] = [-1 for x in range(len(trainStances))]\n",
    "\n",
    "for index, row in trainStances[0:limit].iterrows():\n",
    "    headline = row['Headline']\n",
    "    body = row['Body']\n",
    "    \n",
    "#     print index\n",
    "#     print \"HEADLINE: \\n%s\\n\" % headline\n",
    "#     print \"BODY: \\n%s\\n\" % body\n",
    "\n",
    "    headline_words = headline.split()\n",
    "    body_words = body.split()\n",
    "    \n",
    "    num_words_in_common = len(set(headline_words).intersection(body_words))\n",
    "    \n",
    "    trainStances.loc[index, \"Number Of Common Words\"] = num_words_in_common \n",
    "\n",
    "trainStances.head()\n",
    "\n",
    "# I'd like to graph the num_words_in_common integer to the stance classification, to see what kind of correlation we're working with here."
   ]
  },
  {
   "cell_type": "code",
   "execution_count": 36,
   "metadata": {
    "collapsed": false,
    "deletable": true,
    "editable": true
   },
   "outputs": [
    {
     "data": {
      "text/html": [
       "<div>\n",
       "<table border=\"1\" class=\"dataframe\">\n",
       "  <thead>\n",
       "    <tr style=\"text-align: right;\">\n",
       "      <th></th>\n",
       "      <th>unrelated</th>\n",
       "      <th>agree</th>\n",
       "      <th>disagree</th>\n",
       "      <th>discuss</th>\n",
       "      <th>Number Of Common Words</th>\n",
       "    </tr>\n",
       "  </thead>\n",
       "  <tbody>\n",
       "    <tr>\n",
       "      <th>unrelated</th>\n",
       "      <td>1.000000</td>\n",
       "      <td>-0.604842</td>\n",
       "      <td>-0.275172</td>\n",
       "      <td>-0.604842</td>\n",
       "      <td>-0.646779</td>\n",
       "    </tr>\n",
       "    <tr>\n",
       "      <th>agree</th>\n",
       "      <td>-0.604842</td>\n",
       "      <td>1.000000</td>\n",
       "      <td>-0.067981</td>\n",
       "      <td>-0.149425</td>\n",
       "      <td>0.474475</td>\n",
       "    </tr>\n",
       "    <tr>\n",
       "      <th>disagree</th>\n",
       "      <td>-0.275172</td>\n",
       "      <td>-0.067981</td>\n",
       "      <td>1.000000</td>\n",
       "      <td>-0.067981</td>\n",
       "      <td>0.280491</td>\n",
       "    </tr>\n",
       "    <tr>\n",
       "      <th>discuss</th>\n",
       "      <td>-0.604842</td>\n",
       "      <td>-0.149425</td>\n",
       "      <td>-0.067981</td>\n",
       "      <td>1.000000</td>\n",
       "      <td>0.255924</td>\n",
       "    </tr>\n",
       "    <tr>\n",
       "      <th>Number Of Common Words</th>\n",
       "      <td>-0.646779</td>\n",
       "      <td>0.474475</td>\n",
       "      <td>0.280491</td>\n",
       "      <td>0.255924</td>\n",
       "      <td>1.000000</td>\n",
       "    </tr>\n",
       "  </tbody>\n",
       "</table>\n",
       "</div>"
      ],
      "text/plain": [
       "                        unrelated     agree  disagree   discuss  \\\n",
       "unrelated                1.000000 -0.604842 -0.275172 -0.604842   \n",
       "agree                   -0.604842  1.000000 -0.067981 -0.149425   \n",
       "disagree                -0.275172 -0.067981  1.000000 -0.067981   \n",
       "discuss                 -0.604842 -0.149425 -0.067981  1.000000   \n",
       "Number Of Common Words  -0.646779  0.474475  0.280491  0.255924   \n",
       "\n",
       "                        Number Of Common Words  \n",
       "unrelated                            -0.646779  \n",
       "agree                                 0.474475  \n",
       "disagree                              0.280491  \n",
       "discuss                               0.255924  \n",
       "Number Of Common Words                1.000000  "
      ]
     },
     "execution_count": 36,
     "metadata": {},
     "output_type": "execute_result"
    }
   ],
   "source": [
    "trainStances[0:limit].corr()"
   ]
  },
  {
   "cell_type": "code",
   "execution_count": null,
   "metadata": {
    "collapsed": true,
    "deletable": true,
    "editable": true
   },
   "outputs": [],
   "source": []
  }
 ],
 "metadata": {
  "anaconda-cloud": {},
  "kernelspec": {
   "display_name": "Python 2",
   "language": "python",
   "name": "python2"
  },
  "language_info": {
   "codemirror_mode": {
    "name": "ipython",
    "version": 2
   },
   "file_extension": ".py",
   "mimetype": "text/x-python",
   "name": "python",
   "nbconvert_exporter": "python",
   "pygments_lexer": "ipython2",
   "version": "2.7.10"
  }
 },
 "nbformat": 4,
 "nbformat_minor": 2
}
