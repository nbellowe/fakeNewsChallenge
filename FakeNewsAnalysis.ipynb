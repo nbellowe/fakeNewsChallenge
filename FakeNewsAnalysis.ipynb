{
 "cells": [
  {
   "cell_type": "code",
   "execution_count": 59,
   "metadata": {
    "collapsed": false,
    "deletable": true,
    "editable": true
   },
   "outputs": [],
   "source": [
    "import pandas as pd\n",
    "import numpy\n",
    "import pylab\n",
    "\n",
    "from sklearn.feature_extraction.text import CountVectorizer, TfidfVectorizer\n",
    "from sklearn.linear_model import LinearRegression, LogisticRegression\n",
    "from sklearn.naive_bayes import GaussianNB\n",
    "from sklearn.model_selection import cross_val_score\n",
    "\n",
    "\n",
    "%matplotlib inline  \n",
    "import matplotlib.pyplot as plt\n"
   ]
  },
  {
   "cell_type": "code",
   "execution_count": 60,
   "metadata": {
    "collapsed": false,
    "deletable": true,
    "editable": true
   },
   "outputs": [
    {
     "data": {
      "text/html": [
       "<div>\n",
       "<table border=\"1\" class=\"dataframe\">\n",
       "  <thead>\n",
       "    <tr style=\"text-align: right;\">\n",
       "      <th></th>\n",
       "      <th>Headline</th>\n",
       "      <th>Body ID</th>\n",
       "      <th>Stance</th>\n",
       "    </tr>\n",
       "  </thead>\n",
       "  <tbody>\n",
       "    <tr>\n",
       "      <th>0</th>\n",
       "      <td>Police find mass graves with at least '15 bodi...</td>\n",
       "      <td>712</td>\n",
       "      <td>unrelated</td>\n",
       "    </tr>\n",
       "    <tr>\n",
       "      <th>1</th>\n",
       "      <td>Hundreds of Palestinians flee floods in Gaza a...</td>\n",
       "      <td>158</td>\n",
       "      <td>agree</td>\n",
       "    </tr>\n",
       "    <tr>\n",
       "      <th>2</th>\n",
       "      <td>Christian Bale passes on role of Steve Jobs, a...</td>\n",
       "      <td>137</td>\n",
       "      <td>unrelated</td>\n",
       "    </tr>\n",
       "    <tr>\n",
       "      <th>3</th>\n",
       "      <td>HBO and Apple in Talks for $15/Month Apple TV ...</td>\n",
       "      <td>1034</td>\n",
       "      <td>unrelated</td>\n",
       "    </tr>\n",
       "    <tr>\n",
       "      <th>4</th>\n",
       "      <td>Spider burrowed through tourist's stomach and ...</td>\n",
       "      <td>1923</td>\n",
       "      <td>disagree</td>\n",
       "    </tr>\n",
       "  </tbody>\n",
       "</table>\n",
       "</div>"
      ],
      "text/plain": [
       "                                            Headline  Body ID     Stance\n",
       "0  Police find mass graves with at least '15 bodi...      712  unrelated\n",
       "1  Hundreds of Palestinians flee floods in Gaza a...      158      agree\n",
       "2  Christian Bale passes on role of Steve Jobs, a...      137  unrelated\n",
       "3  HBO and Apple in Talks for $15/Month Apple TV ...     1034  unrelated\n",
       "4  Spider burrowed through tourist's stomach and ...     1923   disagree"
      ]
     },
     "execution_count": 60,
     "metadata": {},
     "output_type": "execute_result"
    }
   ],
   "source": [
    "trainBodies = pd.read_csv('fncData/train_bodies.csv')\n",
    "trainStances = pd.read_csv('fncData/train_stances.csv')\n",
    "trainStancesRandom = pd.read_csv('fncData/train_stances.random.csv')\n",
    "trainStances.head()"
   ]
  },
  {
   "cell_type": "code",
   "execution_count": 80,
   "metadata": {
    "collapsed": false
   },
   "outputs": [
    {
     "name": "stdout",
     "output_type": "stream",
     "text": [
      "('Unrelated: ', 0.7313095333386697)\n",
      "('Disagree: ', 0.016809413271432)\n",
      "('Agree: ', 0.07360121668134155)\n",
      "('Discuss: ', 0.1782798367085568)\n"
     ]
    }
   ],
   "source": [
    "unrelatedCount = trainStances[trainStances[\"Stance\"] == \"unrelated\"].count()[0]\n",
    "agreeCount = trainStances[trainStances[\"Stance\"] == \"agree\"].count()[0]\n",
    "disagreeCount = trainStances[trainStances[\"Stance\"] == \"disagree\"].count()[0]\n",
    "discussCount = trainStances[trainStances[\"Stance\"] == \"discuss\"].count()[0]\n",
    "totalCount = trainStances.count()[0]\n",
    "\n",
    "print(\"Unrelated: \", float(unrelatedCount) / totalCount)\n",
    "print(\"Disagree: \", float(disagreeCount) / totalCount)\n",
    "print(\"Agree: \", float(agreeCount) / totalCount)\n",
    "print(\"Discuss: \", float(discussCount) / totalCount)"
   ]
  },
  {
   "cell_type": "code",
   "execution_count": 81,
   "metadata": {
    "collapsed": false,
    "deletable": true,
    "editable": true
   },
   "outputs": [
    {
     "data": {
      "text/html": [
       "<div>\n",
       "<table border=\"1\" class=\"dataframe\">\n",
       "  <thead>\n",
       "    <tr style=\"text-align: right;\">\n",
       "      <th></th>\n",
       "      <th>Headline</th>\n",
       "      <th>Body ID</th>\n",
       "      <th>Stance</th>\n",
       "    </tr>\n",
       "  </thead>\n",
       "  <tbody>\n",
       "    <tr>\n",
       "      <th>0</th>\n",
       "      <td>Police find mass graves with at least '15 bodi...</td>\n",
       "      <td>712</td>\n",
       "      <td>discuss</td>\n",
       "    </tr>\n",
       "    <tr>\n",
       "      <th>1</th>\n",
       "      <td>Hundreds of Palestinians flee floods in Gaza a...</td>\n",
       "      <td>158</td>\n",
       "      <td>discuss</td>\n",
       "    </tr>\n",
       "    <tr>\n",
       "      <th>2</th>\n",
       "      <td>Christian Bale passes on role of Steve Jobs, a...</td>\n",
       "      <td>137</td>\n",
       "      <td>disagree</td>\n",
       "    </tr>\n",
       "    <tr>\n",
       "      <th>3</th>\n",
       "      <td>HBO and Apple in Talks for $15/Month Apple TV ...</td>\n",
       "      <td>1034</td>\n",
       "      <td>disagree</td>\n",
       "    </tr>\n",
       "    <tr>\n",
       "      <th>4</th>\n",
       "      <td>Spider burrowed through tourist's stomach and ...</td>\n",
       "      <td>1923</td>\n",
       "      <td>agree</td>\n",
       "    </tr>\n",
       "  </tbody>\n",
       "</table>\n",
       "</div>"
      ],
      "text/plain": [
       "                                            Headline  Body ID    Stance\n",
       "0  Police find mass graves with at least '15 bodi...      712   discuss\n",
       "1  Hundreds of Palestinians flee floods in Gaza a...      158   discuss\n",
       "2  Christian Bale passes on role of Steve Jobs, a...      137  disagree\n",
       "3  HBO and Apple in Talks for $15/Month Apple TV ...     1034  disagree\n",
       "4  Spider burrowed through tourist's stomach and ...     1923     agree"
      ]
     },
     "execution_count": 81,
     "metadata": {},
     "output_type": "execute_result"
    }
   ],
   "source": [
    "trainStancesRandom.head()"
   ]
  },
  {
   "cell_type": "code",
   "execution_count": 82,
   "metadata": {
    "collapsed": true,
    "deletable": true,
    "editable": true
   },
   "outputs": [],
   "source": [
    "limit = len(trainStances)\n",
    "limit = 1000\n",
    "strip = True\n",
    "lowercase = True"
   ]
  },
  {
   "cell_type": "code",
   "execution_count": 83,
   "metadata": {
    "collapsed": false,
    "deletable": true,
    "editable": true
   },
   "outputs": [
    {
     "name": "stdout",
     "output_type": "stream",
     "text": [
      "Train Stances (20/49972):\n"
     ]
    },
    {
     "data": {
      "text/html": [
       "<div>\n",
       "<table border=\"1\" class=\"dataframe\">\n",
       "  <thead>\n",
       "    <tr style=\"text-align: right;\">\n",
       "      <th></th>\n",
       "      <th>Headline</th>\n",
       "      <th>unrelated</th>\n",
       "      <th>agree</th>\n",
       "      <th>disagree</th>\n",
       "      <th>discuss</th>\n",
       "      <th>Body</th>\n",
       "    </tr>\n",
       "  </thead>\n",
       "  <tbody>\n",
       "    <tr>\n",
       "      <th>0</th>\n",
       "      <td>police find mass graves with at least bodies n...</td>\n",
       "      <td>1</td>\n",
       "      <td>0</td>\n",
       "      <td>0</td>\n",
       "      <td>0</td>\n",
       "      <td>danny boyle is directing the untitled film set...</td>\n",
       "    </tr>\n",
       "    <tr>\n",
       "      <th>1</th>\n",
       "      <td>hundreds of palestinians flee floods in gaza a...</td>\n",
       "      <td>0</td>\n",
       "      <td>1</td>\n",
       "      <td>0</td>\n",
       "      <td>0</td>\n",
       "      <td>hundreds of palestinians were evacuated from t...</td>\n",
       "    </tr>\n",
       "    <tr>\n",
       "      <th>2</th>\n",
       "      <td>christian bale passes on role of steve jobs ac...</td>\n",
       "      <td>1</td>\n",
       "      <td>0</td>\n",
       "      <td>0</td>\n",
       "      <td>0</td>\n",
       "      <td>year old moscow resident was hospitalized with...</td>\n",
       "    </tr>\n",
       "    <tr>\n",
       "      <th>3</th>\n",
       "      <td>hbo and apple in talks for month apple tv stre...</td>\n",
       "      <td>1</td>\n",
       "      <td>0</td>\n",
       "      <td>0</td>\n",
       "      <td>0</td>\n",
       "      <td>reuters a canadian soldier was shot at the can...</td>\n",
       "    </tr>\n",
       "    <tr>\n",
       "      <th>4</th>\n",
       "      <td>spider burrowed through tourist s stomach and ...</td>\n",
       "      <td>0</td>\n",
       "      <td>0</td>\n",
       "      <td>1</td>\n",
       "      <td>0</td>\n",
       "      <td>fear not arachnophobes the story of bunbury s ...</td>\n",
       "    </tr>\n",
       "  </tbody>\n",
       "</table>\n",
       "</div>"
      ],
      "text/plain": [
       "                                            Headline  unrelated  agree  \\\n",
       "0  police find mass graves with at least bodies n...          1      0   \n",
       "1  hundreds of palestinians flee floods in gaza a...          0      1   \n",
       "2  christian bale passes on role of steve jobs ac...          1      0   \n",
       "3  hbo and apple in talks for month apple tv stre...          1      0   \n",
       "4  spider burrowed through tourist s stomach and ...          0      0   \n",
       "\n",
       "   disagree  discuss                                               Body  \n",
       "0         0        0  danny boyle is directing the untitled film set...  \n",
       "1         0        0  hundreds of palestinians were evacuated from t...  \n",
       "2         0        0  year old moscow resident was hospitalized with...  \n",
       "3         0        0  reuters a canadian soldier was shot at the can...  \n",
       "4         1        0  fear not arachnophobes the story of bunbury s ...  "
      ]
     },
     "execution_count": 83,
     "metadata": {},
     "output_type": "execute_result"
    }
   ],
   "source": [
    "print \"Train Stances (20/%s):\" % (len(trainStances))\n",
    "# trainStances.head(20)\n",
    "\n",
    "trainStances[\"unrelated\"] = trainStances[\"Stance\"].apply(lambda x: 1 if x == \"unrelated\" else 0)\n",
    "trainStances[\"agree\"] = trainStances[\"Stance\"].apply(lambda x: 1 if x == \"agree\" else 0)\n",
    "trainStances[\"disagree\"] = trainStances[\"Stance\"].apply(lambda x: 1 if x == \"disagree\" else 0)\n",
    "trainStances[\"discuss\"] = trainStances[\"Stance\"].apply(lambda x: 1 if x == \"discuss\" else 0)\n",
    "trainStances[\"Body\"] = [\"\"] * len(trainStances)\n",
    "for index, row in trainStances[0:limit].iterrows():\n",
    "    trainStances.loc[index, \"Body\"] = trainBodies[trainBodies['Body ID'] == row[\"Body ID\"]]['articleBody'].item()\n",
    "\n",
    "\n",
    "import re\n",
    "def preprocess(text, lowercase, strip):\n",
    "    text = text.lower() if lowercase else text\n",
    "    text = \" \".join(re.findall(\"[a-zA-Z]+\", text)) if strip else text\n",
    "    return text\n",
    "\n",
    "if strip or lowercase:\n",
    "    trainStances[\"Body\"]= trainStances[\"Body\"].apply(lambda x: preprocess(x,lowercase,strip))\n",
    "    trainStances[\"Headline\"]= trainStances[\"Headline\"].apply(lambda x: preprocess(x,lowercase,strip))\n",
    "    \n",
    "\n",
    "trainStances = trainStances.drop(\"Body ID\", 1)\n",
    "trainStances = trainStances.drop(\"Stance\", 1)\n",
    "    \n",
    "trainStances.head()"
   ]
  },
  {
   "cell_type": "code",
   "execution_count": 84,
   "metadata": {
    "collapsed": false,
    "deletable": true,
    "editable": true
   },
   "outputs": [
    {
     "name": "stdout",
     "output_type": "stream",
     "text": [
      "Train Stances Random (20/49972)\n"
     ]
    }
   ],
   "source": [
    "print \"Train Stances Random (20/%s)\" % (len(trainStancesRandom))\n",
    "# trainStancesRandom.head(20)"
   ]
  },
  {
   "cell_type": "code",
   "execution_count": null,
   "metadata": {
    "collapsed": false,
    "deletable": true,
    "editable": true
   },
   "outputs": [],
   "source": []
  },
  {
   "cell_type": "code",
   "execution_count": 85,
   "metadata": {
    "collapsed": false,
    "deletable": true,
    "editable": true
   },
   "outputs": [
    {
     "data": {
      "text/html": [
       "<div>\n",
       "<table border=\"1\" class=\"dataframe\">\n",
       "  <thead>\n",
       "    <tr style=\"text-align: right;\">\n",
       "      <th></th>\n",
       "      <th>Headline</th>\n",
       "      <th>unrelated</th>\n",
       "      <th>agree</th>\n",
       "      <th>disagree</th>\n",
       "      <th>discuss</th>\n",
       "      <th>Body</th>\n",
       "      <th>Number Of Common Words</th>\n",
       "      <th>Number Of Words In Body</th>\n",
       "      <th>Number Of Words In Headline</th>\n",
       "    </tr>\n",
       "  </thead>\n",
       "  <tbody>\n",
       "    <tr>\n",
       "      <th>0</th>\n",
       "      <td>police find mass graves with at least bodies n...</td>\n",
       "      <td>1</td>\n",
       "      <td>0</td>\n",
       "      <td>0</td>\n",
       "      <td>0</td>\n",
       "      <td>danny boyle is directing the untitled film set...</td>\n",
       "      <td>2</td>\n",
       "      <td>198</td>\n",
       "      <td>17</td>\n",
       "    </tr>\n",
       "    <tr>\n",
       "      <th>1</th>\n",
       "      <td>hundreds of palestinians flee floods in gaza a...</td>\n",
       "      <td>0</td>\n",
       "      <td>1</td>\n",
       "      <td>0</td>\n",
       "      <td>0</td>\n",
       "      <td>hundreds of palestinians were evacuated from t...</td>\n",
       "      <td>10</td>\n",
       "      <td>429</td>\n",
       "      <td>11</td>\n",
       "    </tr>\n",
       "    <tr>\n",
       "      <th>2</th>\n",
       "      <td>christian bale passes on role of steve jobs ac...</td>\n",
       "      <td>1</td>\n",
       "      <td>0</td>\n",
       "      <td>0</td>\n",
       "      <td>0</td>\n",
       "      <td>year old moscow resident was hospitalized with...</td>\n",
       "      <td>4</td>\n",
       "      <td>187</td>\n",
       "      <td>17</td>\n",
       "    </tr>\n",
       "    <tr>\n",
       "      <th>3</th>\n",
       "      <td>hbo and apple in talks for month apple tv stre...</td>\n",
       "      <td>1</td>\n",
       "      <td>0</td>\n",
       "      <td>0</td>\n",
       "      <td>0</td>\n",
       "      <td>reuters a canadian soldier was shot at the can...</td>\n",
       "      <td>2</td>\n",
       "      <td>79</td>\n",
       "      <td>14</td>\n",
       "    </tr>\n",
       "    <tr>\n",
       "      <th>4</th>\n",
       "      <td>spider burrowed through tourist s stomach and ...</td>\n",
       "      <td>0</td>\n",
       "      <td>0</td>\n",
       "      <td>1</td>\n",
       "      <td>0</td>\n",
       "      <td>fear not arachnophobes the story of bunbury s ...</td>\n",
       "      <td>9</td>\n",
       "      <td>627</td>\n",
       "      <td>11</td>\n",
       "    </tr>\n",
       "  </tbody>\n",
       "</table>\n",
       "</div>"
      ],
      "text/plain": [
       "                                            Headline  unrelated  agree  \\\n",
       "0  police find mass graves with at least bodies n...          1      0   \n",
       "1  hundreds of palestinians flee floods in gaza a...          0      1   \n",
       "2  christian bale passes on role of steve jobs ac...          1      0   \n",
       "3  hbo and apple in talks for month apple tv stre...          1      0   \n",
       "4  spider burrowed through tourist s stomach and ...          0      0   \n",
       "\n",
       "   disagree  discuss                                               Body  \\\n",
       "0         0        0  danny boyle is directing the untitled film set...   \n",
       "1         0        0  hundreds of palestinians were evacuated from t...   \n",
       "2         0        0  year old moscow resident was hospitalized with...   \n",
       "3         0        0  reuters a canadian soldier was shot at the can...   \n",
       "4         1        0  fear not arachnophobes the story of bunbury s ...   \n",
       "\n",
       "   Number Of Common Words  Number Of Words In Body  \\\n",
       "0                       2                      198   \n",
       "1                      10                      429   \n",
       "2                       4                      187   \n",
       "3                       2                       79   \n",
       "4                       9                      627   \n",
       "\n",
       "   Number Of Words In Headline  \n",
       "0                           17  \n",
       "1                           11  \n",
       "2                           17  \n",
       "3                           14  \n",
       "4                           11  "
      ]
     },
     "execution_count": 85,
     "metadata": {},
     "output_type": "execute_result"
    }
   ],
   "source": [
    "# build feature vocabulary\n",
    "ngram = 1\n",
    "vectorizer = CountVectorizer(ngram_range=(1, ngram))\n",
    "trainStances[\"Number Of Common Words\"] = [-1 for x in range(len(trainStances))]\n",
    "trainStances[\"Number Of Words In Body\"] = [-1 for x in range(len(trainStances))]\n",
    "trainStances[\"Number Of Words In Headline\"] = [-1 for x in range(len(trainStances))]\n",
    "\n",
    "for index, row in trainStances[0:limit].iterrows():\n",
    "    headline = row['Headline']\n",
    "    body = row['Body']\n",
    "    \n",
    "#     print index\n",
    "#     print \"HEADLINE: \\n%s\\n\" % headline\n",
    "#     print \"BODY: \\n%s\\n\" % body\n",
    "\n",
    "    headline_words = headline.split()\n",
    "    body_words = body.split()\n",
    "    \n",
    "    num_words_in_common = len(set(headline_words).intersection(body_words))\n",
    "    \n",
    "    trainStances.loc[index, \"Number Of Common Words\"] = num_words_in_common  \n",
    "    trainStances.loc[index, \"Number Of Words In Body\"] = len(body_words) \n",
    "    trainStances.loc[index, \"Number Of Words In Headline\"] = len(headline_words) \n",
    "\n",
    "trainStances.head()\n",
    "\n",
    "# I'd like to graph the num_words_in_common integer to the stance classification, to see what kind of correlation we're working with here."
   ]
  },
  {
   "cell_type": "code",
   "execution_count": 86,
   "metadata": {
    "collapsed": false,
    "deletable": true,
    "editable": true
   },
   "outputs": [
    {
     "data": {
      "text/html": [
       "<div>\n",
       "<table border=\"1\" class=\"dataframe\">\n",
       "  <thead>\n",
       "    <tr style=\"text-align: right;\">\n",
       "      <th></th>\n",
       "      <th>unrelated</th>\n",
       "      <th>agree</th>\n",
       "      <th>disagree</th>\n",
       "      <th>discuss</th>\n",
       "      <th>Number Of Common Words</th>\n",
       "      <th>Number Of Words In Body</th>\n",
       "      <th>Number Of Words In Headline</th>\n",
       "    </tr>\n",
       "  </thead>\n",
       "  <tbody>\n",
       "    <tr>\n",
       "      <th>unrelated</th>\n",
       "      <td>1.000000</td>\n",
       "      <td>-0.495683</td>\n",
       "      <td>-0.207277</td>\n",
       "      <td>-0.738470</td>\n",
       "      <td>-0.666706</td>\n",
       "      <td>-0.070439</td>\n",
       "      <td>0.006004</td>\n",
       "    </tr>\n",
       "    <tr>\n",
       "      <th>agree</th>\n",
       "      <td>-0.495683</td>\n",
       "      <td>1.000000</td>\n",
       "      <td>-0.041357</td>\n",
       "      <td>-0.147343</td>\n",
       "      <td>0.342553</td>\n",
       "      <td>0.008862</td>\n",
       "      <td>0.019269</td>\n",
       "    </tr>\n",
       "    <tr>\n",
       "      <th>disagree</th>\n",
       "      <td>-0.207277</td>\n",
       "      <td>-0.041357</td>\n",
       "      <td>1.000000</td>\n",
       "      <td>-0.061614</td>\n",
       "      <td>0.115451</td>\n",
       "      <td>-0.027733</td>\n",
       "      <td>-0.037013</td>\n",
       "    </tr>\n",
       "    <tr>\n",
       "      <th>discuss</th>\n",
       "      <td>-0.738470</td>\n",
       "      <td>-0.147343</td>\n",
       "      <td>-0.061614</td>\n",
       "      <td>1.000000</td>\n",
       "      <td>0.490998</td>\n",
       "      <td>0.085669</td>\n",
       "      <td>-0.008970</td>\n",
       "    </tr>\n",
       "    <tr>\n",
       "      <th>Number Of Common Words</th>\n",
       "      <td>-0.666706</td>\n",
       "      <td>0.342553</td>\n",
       "      <td>0.115451</td>\n",
       "      <td>0.490998</td>\n",
       "      <td>1.000000</td>\n",
       "      <td>0.238015</td>\n",
       "      <td>0.496067</td>\n",
       "    </tr>\n",
       "    <tr>\n",
       "      <th>Number Of Words In Body</th>\n",
       "      <td>-0.070439</td>\n",
       "      <td>0.008862</td>\n",
       "      <td>-0.027733</td>\n",
       "      <td>0.085669</td>\n",
       "      <td>0.238015</td>\n",
       "      <td>1.000000</td>\n",
       "      <td>0.038055</td>\n",
       "    </tr>\n",
       "    <tr>\n",
       "      <th>Number Of Words In Headline</th>\n",
       "      <td>0.006004</td>\n",
       "      <td>0.019269</td>\n",
       "      <td>-0.037013</td>\n",
       "      <td>-0.008970</td>\n",
       "      <td>0.496067</td>\n",
       "      <td>0.038055</td>\n",
       "      <td>1.000000</td>\n",
       "    </tr>\n",
       "  </tbody>\n",
       "</table>\n",
       "</div>"
      ],
      "text/plain": [
       "                             unrelated     agree  disagree   discuss  \\\n",
       "unrelated                     1.000000 -0.495683 -0.207277 -0.738470   \n",
       "agree                        -0.495683  1.000000 -0.041357 -0.147343   \n",
       "disagree                     -0.207277 -0.041357  1.000000 -0.061614   \n",
       "discuss                      -0.738470 -0.147343 -0.061614  1.000000   \n",
       "Number Of Common Words       -0.666706  0.342553  0.115451  0.490998   \n",
       "Number Of Words In Body      -0.070439  0.008862 -0.027733  0.085669   \n",
       "Number Of Words In Headline   0.006004  0.019269 -0.037013 -0.008970   \n",
       "\n",
       "                             Number Of Common Words  Number Of Words In Body  \\\n",
       "unrelated                                 -0.666706                -0.070439   \n",
       "agree                                      0.342553                 0.008862   \n",
       "disagree                                   0.115451                -0.027733   \n",
       "discuss                                    0.490998                 0.085669   \n",
       "Number Of Common Words                     1.000000                 0.238015   \n",
       "Number Of Words In Body                    0.238015                 1.000000   \n",
       "Number Of Words In Headline                0.496067                 0.038055   \n",
       "\n",
       "                             Number Of Words In Headline  \n",
       "unrelated                                       0.006004  \n",
       "agree                                           0.019269  \n",
       "disagree                                       -0.037013  \n",
       "discuss                                        -0.008970  \n",
       "Number Of Common Words                          0.496067  \n",
       "Number Of Words In Body                         0.038055  \n",
       "Number Of Words In Headline                     1.000000  "
      ]
     },
     "execution_count": 86,
     "metadata": {},
     "output_type": "execute_result"
    }
   ],
   "source": [
    "trainStances[0:limit].corr()"
   ]
  },
  {
   "cell_type": "code",
   "execution_count": 16,
   "metadata": {
    "collapsed": false,
    "deletable": true,
    "editable": true
   },
   "outputs": [
    {
     "name": "stderr",
     "output_type": "stream",
     "text": [
      "/Library/Python/2.7/site-packages/ipykernel/__main__.py:5: UserWarning: Boolean Series key will be reindexed to match DataFrame index.\n"
     ]
    },
    {
     "name": "stdout",
     "output_type": "stream",
     "text": [
      "{'unrelated': 2.6227208976157081, 'disagree': 7.0, 'discuss': 7.572222222222222, 'agree': 7.7111111111111112}\n"
     ]
    },
    {
     "data": {
      "image/png": "[encoded data removed]",
      "text/plain": [
       "<matplotlib.figure.Figure at 0x10ea30a50>"
      ]
     },
     "metadata": {},
     "output_type": "display_data"
    }
   ],
   "source": [
    "categoryNumberOfCommonWordsMeans = {\n",
    "    \"unrelated\":0, \"discuss\":0, \"agree\":0, \"disagree\":0\n",
    "}\n",
    "for category in categoryNumberOfCommonWordsMeans: #for each category calculate the mean number of words in common between header and body \n",
    "    categoryNumberOfCommonWordsMeans[category] = trainStances[0:limit][trainStances[category] == 1].mean()[\"Number Of Common Words\"]\n",
    "\n",
    "print(categoryNumberOfCommonWordsMeans)\n",
    "\n",
    "values = [] #in same order as traversing keys\n",
    "keys = [] #also needed to preserve order\n",
    "for key in categoryNumberOfCommonWordsMeans.keys():\n",
    "  keys.append(key)\n",
    "\n",
    "  values.append(categoryNumberOfCommonWordsMeans[key])\n",
    "    \n",
    "l = plt.bar(range(len(values)), values,align='center')\n",
    "plt.xticks(range(len(keys)), keys, rotation=25)\n",
    "plt.grid(True)\n",
    "\n"
   ]
  },
  {
   "cell_type": "code",
   "execution_count": 20,
   "metadata": {
    "collapsed": false,
    "deletable": true,
    "editable": true
   },
   "outputs": [
    {
     "name": "stdout",
     "output_type": "stream",
     "text": [
      "('Size:', (1000, 15064), 'same')\n"
     ]
    }
   ],
   "source": [
    "from sklearn.feature_extraction.text import CountVectorizer\n",
    "bodies = [x for x in trainStances[0:limit][\"Body\"]]\n",
    "headlines = [x for x in trainStances[0:limit][\"Headline\"]]\n",
    "\n",
    "# could make count vectors for each type\n",
    "cv=CountVectorizer()\n",
    "# or tfidf vectorizer \n",
    "#cv=TfidfVectorizer()\n",
    "cv.fit(bodies + headlines)\n",
    "bodyBOWVectors = cv.transform(bodies)\n",
    "headlineBOWVectors = cv.transform(headlines)\n",
    "\n",
    "print(\"Size:\", headlineBOWVectors.shape, \"same\" if bodyBOWVectors.shape==headlineBOWVectors.shape else \"DIFFERENT!!!\")\n",
    "\n",
    "# maybe its better to have one vector where the presence of the word is scaled\n",
    "# up if that word is present in the headline, otherwise scaled down \n",
    "# something of the form, but scaled with constants...\n",
    "combinedVectors = bodyBOWVectors.multiply(headlineBOWVectors)\n"
   ]
  },
  {
   "cell_type": "code",
   "execution_count": 91,
   "metadata": {
    "collapsed": false,
    "deletable": true,
    "editable": true
   },
   "outputs": [
    {
     "name": "stdout",
     "output_type": "stream",
     "text": [
      "Crossvalidation [ 0.87562189  0.83084577  0.865       0.84422111  0.83417085] Accuracy: 0.85 (+/- 0.04)\n",
      "('Coefficient for number of words is ', -0.64859411595685146)\n"
     ]
    }
   ],
   "source": [
    "x_train = list([[x] for x in trainStances[0:limit][\"Number Of Common Words\"]])\n",
    "y_train = list([y for y in trainStances[0:limit][\"unrelated\"]])\n",
    "\n",
    "clf = LogisticRegression()\n",
    "clf.fit(x_train, y_train)\n",
    "scores = cross_val_score(clf, x_train, y_train, cv=5)\n",
    "accuracy = scores.mean()\n",
    "print \"Crossvalidation\", scores, (\"Accuracy: %0.2f (+/- %0.2f)\" % (accuracy, scores.std() * 2))\n",
    "print(\"Coefficient for number of words is \", clf.coef_[0][0])\n",
    "\n"
   ]
  },
  {
   "cell_type": "code",
   "execution_count": 54,
   "metadata": {
    "collapsed": false,
    "deletable": true,
    "editable": true
   },
   "outputs": [
    {
     "data": {
      "text/plain": [
       "LinearRegression(copy_X=True, fit_intercept=True, n_jobs=1, normalize=False)"
      ]
     },
     "execution_count": 54,
     "metadata": {},
     "output_type": "execute_result"
    }
   ],
   "source": [
    "lr = LinearRegression()\n",
    "\n",
    "lr.fit(x_train, y_train)\n",
    "\n",
    "#predictions = lr.predict(x_test)\n",
    "\n",
    "#o = DictWriter(open(\"predictions.csv\", 'w'), [\"Id\", \"spoiler\"])\n",
    "#o.writeheader()\n",
    "#for ii, pp in zip([x['Id'] for x in test], predictions):\n",
    "#    d = {'Id': ii, 'spoiler': labels[pp]}\n",
    "#    o.writerow(d)"
   ]
  },
  {
   "cell_type": "code",
   "execution_count": null,
   "metadata": {
    "collapsed": false,
    "deletable": true,
    "editable": true
   },
   "outputs": [],
   "source": []
  },
  {
   "cell_type": "code",
   "execution_count": null,
   "metadata": {
    "collapsed": true,
    "deletable": true,
    "editable": true
   },
   "outputs": [],
   "source": []
  }
 ],
 "metadata": {
  "anaconda-cloud": {},
  "kernelspec": {
   "display_name": "Python 2",
   "language": "python",
   "name": "python2"
  },
  "language_info": {
   "codemirror_mode": {
    "name": "ipython",
    "version": 2
   },
   "file_extension": ".py",
   "mimetype": "text/x-python",
   "name": "python",
   "nbconvert_exporter": "python",
   "pygments_lexer": "ipython2",
   "version": "2.7.10"
  }
 },
 "nbformat": 4,
 "nbformat_minor": 2
}
